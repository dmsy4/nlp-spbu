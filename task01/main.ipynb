{
 "cells": [
  {
   "cell_type": "code",
   "execution_count": 1,
   "metadata": {},
   "outputs": [],
   "source": [
    "from yargy import Parser, rule, and_, or_\n",
    "from yargy.predicates import gram, is_capitalized, dictionary\n",
    "from yargy.pipelines import morph_pipeline\n",
    "from yargy.interpretation import fact\n",
    "from yargy.relations import gnc_relation"
   ]
  },
  {
   "cell_type": "code",
   "execution_count": 2,
   "metadata": {},
   "outputs": [],
   "source": [
    "Name = fact(\n",
    "    \"Name\",\n",
    "    [\"first\", \"last\"]\n",
    ")\n",
    "\n",
    "BirthDate = fact(\n",
    "    \"BirthDate\",\n",
    "    [\"date\"]\n",
    ")\n",
    "\n",
    "BirthPlace = fact(\n",
    "    \"BirthPlace\",\n",
    "    [\"in_\", \"place\"]\n",
    ")\n",
    "\n",
    "Entry = fact(\n",
    "    \"Entry\",\n",
    "    [\"name\", \"birth_date\", \"birth_place\"]\n",
    ")"
   ]
  },
  {
   "cell_type": "markdown",
   "metadata": {},
   "source": [
    "# Паттерн для даты"
   ]
  },
  {
   "cell_type": "code",
   "execution_count": 3,
   "metadata": {},
   "outputs": [],
   "source": [
    "from yargy.predicates import gte, lte\n",
    "from yargy.predicates import caseless, normalized, dictionary\n",
    "\n",
    "\n",
    "MONTHS = {\n",
    "    'январь',\n",
    "    'февраль',\n",
    "    'март',\n",
    "    'апрель',\n",
    "    'мая',\n",
    "    'июнь',\n",
    "    'июль',\n",
    "    'август',\n",
    "    'сентябрь',\n",
    "    'октябрь',\n",
    "    'ноябрь',\n",
    "    'декабрь'\n",
    "}\n",
    "YEAR_WORDS = or_(\n",
    "    rule(caseless('г'), '.'),\n",
    "    rule(normalized('год'))\n",
    ")\n",
    "Date = fact(\n",
    "    'Date',\n",
    "    ['year', 'month', 'day']\n",
    ")\n",
    "\n",
    "DAY = and_(\n",
    "    gte(1),\n",
    "    lte(31)\n",
    ").interpretation(\n",
    "    Date.day\n",
    ")\n",
    "MONTH = and_(\n",
    "    gte(1),\n",
    "    lte(12)\n",
    ").interpretation(\n",
    "    Date.month\n",
    ")\n",
    "YEAR = and_(\n",
    "    gte(1),\n",
    "    lte(2018)\n",
    ").interpretation(\n",
    "    Date.year\n",
    ")\n",
    "MONTH_NAME = dictionary(\n",
    "    MONTHS\n",
    ").interpretation(\n",
    "    Date.month\n",
    ")\n",
    "DATE = rule(\n",
    "    normalized(\"в\").optional(),\n",
    "    DAY.optional(),\n",
    "    MONTH_NAME.optional(),\n",
    "    YEAR,\n",
    "    YEAR_WORDS.optional()\n",
    ").interpretation(Date)"
   ]
  },
  {
   "cell_type": "code",
   "execution_count": null,
   "metadata": {},
   "outputs": [],
   "source": []
  },
  {
   "cell_type": "markdown",
   "metadata": {},
   "source": [
    "# Паттерн для имени"
   ]
  },
  {
   "cell_type": "code",
   "execution_count": 4,
   "metadata": {},
   "outputs": [],
   "source": [
    "gnc = gnc_relation()\n",
    "\n",
    "NAME = rule(\n",
    "    is_capitalized().interpretation(Name.first.inflected()).optional(),\n",
    "    is_capitalized().interpretation(Name.last.inflected()),\n",
    ").interpretation(\n",
    "    Name\n",
    ")"
   ]
  },
  {
   "cell_type": "code",
   "execution_count": 5,
   "metadata": {},
   "outputs": [
    {
     "name": "stdout",
     "output_type": "stream",
     "text": [
      "Name(first=None, last='трэмиел')\n",
      "Name(first=None, last='польша')\n"
     ]
    }
   ],
   "source": [
    "parser = Parser(NAME)\n",
    "text = \"Трэмиел родился в 1928 году в Польше\"\n",
    "\n",
    "for match in parser.findall(text):\n",
    "    print(match.fact)"
   ]
  },
  {
   "cell_type": "markdown",
   "metadata": {},
   "source": [
    "# Паттерн для места рождения"
   ]
  },
  {
   "cell_type": "code",
   "execution_count": 6,
   "metadata": {},
   "outputs": [
    {
     "name": "stdout",
     "output_type": "stream",
     "text": [
      "BirthPlace(in_='в', place='Польше')\n"
     ]
    }
   ],
   "source": [
    "PLACE = rule(\n",
    "    rule(normalized(\"в\")).interpretation(BirthPlace.in_),\n",
    "    rule(is_capitalized()).interpretation(BirthPlace.place),\n",
    ").interpretation(\n",
    "    BirthPlace\n",
    ")\n",
    "\n",
    "parser = Parser(PLACE)\n",
    "text = \"Трэмиел родился в 1928 году в Польше\"\n",
    "\n",
    "for match in parser.findall(text):\n",
    "    print(match.fact)"
   ]
  },
  {
   "cell_type": "markdown",
   "metadata": {},
   "source": [
    "# Общий паттерн"
   ]
  },
  {
   "cell_type": "code",
   "execution_count": 11,
   "metadata": {},
   "outputs": [
    {
     "name": "stdout",
     "output_type": "stream",
     "text": [
      "Entry(name=Name(first=None, last='трэмиел'), birth_date=None, birth_place=None)\n",
      "['Трэмиел', 'родился', 'в', '1928', 'году', 'в', 'Польше']\n"
     ]
    }
   ],
   "source": [
    "PlaceDate = fact(\n",
    "    \"PlaceDate\",\n",
    "    [\"place\", \"date\"]\n",
    ")\n",
    "\n",
    "DatePlace = fact(\n",
    "    \"DatePlace\",\n",
    "    [\"date\", \"place\"]\n",
    ")\n",
    "\n",
    "RULE = rule(\n",
    "    NAME.interpretation(Entry.name),\n",
    "    normalized(\"родился\"),\n",
    "    or_(\n",
    "        rule(\n",
    "            PLACE.interpretation(Entry.birth_place),\n",
    "            DATE.interpretation(Entry.birth_date)\n",
    "        ).interpretation(PlaceDate),\n",
    "        rule(\n",
    "            DATE.interpretation(Entry.birth_date),\n",
    "            PLACE.interpretation(Entry.birth_place)\n",
    "        ).interpretation(DatePlace),\n",
    "    )\n",
    ").interpretation(Entry)\n",
    "\n",
    "parser = Parser(RULE)\n",
    "text = \"Трэмиел родился в 1928 году в Польше\"\n",
    "\n",
    "for match in parser.findall(text):\n",
    "    print(match.fact)\n",
    "    print([_.value for _ in match.tokens])"
   ]
  },
  {
   "cell_type": "code",
   "execution_count": 12,
   "metadata": {},
   "outputs": [
    {
     "name": "stdout",
     "output_type": "stream",
     "text": [
      "----------------------------------------------------------------------------------\n",
      "Name(first=None, last='трэмиел')\n",
      "Date(year='1928', month=None, day=None)\n",
      "BirthPlace(in_='в', place='Польше')\n",
      "----------------------------------------------------------------------------------\n",
      "Name(first=None, last='он')\n",
      "Date(year='1865', month='сентября', day='11')\n",
      "BirthPlace(in_='во', place='Франции')\n",
      "----------------------------------------------------------------------------------\n",
      "Name(first='юрий', last='яковлев')\n",
      "Date(year='1928', month=None, day=None)\n",
      "BirthPlace(in_='в', place='Москве')\n"
     ]
    }
   ],
   "source": [
    "PlaceDate = fact(\n",
    "    \"PlaceDate\",\n",
    "    [\"place\", \"date\"]\n",
    ")\n",
    "\n",
    "DatePlace = fact(\n",
    "    \"DatePlace\",\n",
    "    [\"date\", \"place\"]\n",
    ")\n",
    "\n",
    "\n",
    "RULE = rule(\n",
    "    NAME.interpretation(Entry.name),\n",
    "    caseless(\"родился\"),\n",
    "    or_(\n",
    "        rule(\n",
    "            PLACE.interpretation(Entry.birth_place),\n",
    "            DATE.interpretation(Entry.birth_date)\n",
    "        ),\n",
    "        rule(\n",
    "            DATE.interpretation(Entry.birth_date),\n",
    "            PLACE.interpretation(Entry.birth_place)\n",
    "        ),\n",
    "    )\n",
    ").interpretation(Entry)\n",
    "\n",
    "parser = Parser(RULE)\n",
    "text = \"Трэмиел родился в 1928 году в Польше\\nОн родился во Франции 11 сентября 1865 года\\nЮрий Яковлев родился в Москве в 1928 году\"\n",
    "\n",
    "for t in text.split(\"\\n\"):\n",
    "    for match in parser.findall(t):\n",
    "        print('-' * 82)\n",
    "        print(match.fact.name)\n",
    "        print(match.fact.birth_date)\n",
    "        print(match.fact.birth_place)"
   ]
  },
  {
   "cell_type": "markdown",
   "metadata": {},
   "source": [
    "# Парсинг из всех данных"
   ]
  },
  {
   "cell_type": "code",
   "execution_count": 1,
   "metadata": {},
   "outputs": [],
   "source": [
    "import gzip\n",
    "\n",
    "from dataclasses import dataclass\n",
    "from typing import Iterator\n",
    "\n",
    "@dataclass\n",
    "class Text:\n",
    "    label: str\n",
    "    title: str\n",
    "    text: str\n",
    "\n",
    "\n",
    "def read_texts(fn: str) -> Iterator[Text]:\n",
    "    with gzip.open(fn, \"rt\", encoding=\"utf-8\") as f:\n",
    "        for line in f:\n",
    "            yield Text(*line.strip().split(\"\\t\"))\n",
    "\n",
    "texts = list(read_texts(\"../data/news.tar.gz\"))"
   ]
  },
  {
   "cell_type": "code",
   "execution_count": 16,
   "metadata": {},
   "outputs": [
    {
     "data": {
      "application/vnd.jupyter.widget-view+json": {
       "model_id": "dd1929fcd4df4e07886b59a48dc80f01",
       "version_major": 2,
       "version_minor": 0
      },
      "text/plain": [
       "  0%|          | 0/10000 [00:00<?, ?it/s]"
      ]
     },
     "metadata": {},
     "output_type": "display_data"
    },
    {
     "name": "stdout",
     "output_type": "stream",
     "text": [
      "Entry(name=Name(first=None, last='трэмиел'), birth_date=Date(year='1928', month=None, day=None), birth_place=BirthPlace(in_='в', place='Польше'))\n",
      "Entry(name=Name(first=None, last='он'), birth_date=Date(year='1865', month='сентября', day='11'), birth_place=BirthPlace(in_='в', place='Польше'))\n",
      "Entry(name=Name(first=None, last='ребёнок'), birth_date=Date(year='25', month=None, day=None), birth_place=BirthPlace(in_='в', place='Калифорнии'))\n",
      "Entry(name=Name(first='дмитрий', last='чернявский'), birth_date=Date(year='1992', month='марта', day='5'), birth_place=BirthPlace(in_='в', place='Артемовске'))\n",
      "Entry(name=Name(first=None, last='миллиардер'), birth_date=Date(year='1938', month=None, day=None), birth_place=BirthPlace(in_='в', place='Лондоне'))\n",
      "Entry(name=Name(first='яковлевюрий', last='яковлев'), birth_date=Date(year='1928', month=None, day=None), birth_place=BirthPlace(in_='в', place='Москве'))\n",
      "Entry(name=Name(first=None, last='патрик'), birth_date=Date(year='1990', month=None, day=None), birth_place=BirthPlace(in_='в', place='Бронксе'))\n",
      "Entry(name=Name(first='николай', last='караченцов'), birth_date=Date(year='1944', month='октября', day='27'), birth_place=BirthPlace(in_='в', place='Москве'))\n",
      "Entry(name=Name(first=None, last='живописец'), birth_date=Date(year='1927', month='мая', day='25'), birth_place=BirthPlace(in_='в', place='Сочи'))\n",
      "Entry(name=Name(first='игорь', last='доценко'), birth_date=Date(year='1953', month=None, day=None), birth_place=BirthPlace(in_='в', place='Хмельницкой'))\n",
      "Entry(name=Name(first=None, last='энгельбарт'), birth_date=Date(year='1925', month=None, day=None), birth_place=BirthPlace(in_='в', place='США'))\n",
      "Entry(name=Name(first=None, last='гамильтон'), birth_date=Date(year='1922', month=None, day=None), birth_place=BirthPlace(in_='в', place='Лондоне'))\n",
      "Entry(name=Name(first='раймонд', last='паулс'), birth_date=Date(year='1936', month='января', day='12'), birth_place=BirthPlace(in_='в', place='Риге'))\n",
      "Entry(name=Name(first='эдвард', last='мунк'), birth_date=Date(year='1863', month='декабря', day='12'), birth_place=BirthPlace(in_='в', place='Летене'))\n",
      "Entry(name=Name(first=None, last='рахлина'), birth_date=Date(year='1938', month=None, day=None), birth_place=BirthPlace(in_='в', place='Ленинграде'))\n",
      "Entry(name=Name(first='владимир', last='высоцкий'), birth_date=Date(year='1938', month=None, day=None), birth_place=BirthPlace(in_='в', place='Москве'))\n",
      "Entry(name=Name(first=None, last='монро'), birth_date=Date(year='1969', month=None, day=None), birth_place=BirthPlace(in_='в', place='Ленинграде'))\n",
      "Entry(name=Name(first=None, last='ельчин'), birth_date=Date(year='1989', month='марта', day='11'), birth_place=BirthPlace(in_='в', place='Ленинграде'))\n",
      "Entry(name=Name(first='борис', last='васильев'), birth_date=Date(year='1924', month='мая', day='21'), birth_place=BirthPlace(in_='в', place='Смоленске'))\n",
      "Entry(name=Name(first='оскар', last='нимейер'), birth_date=Date(year='1907', month='декабря', day='15'), birth_place=BirthPlace(in_='в', place='Рио'))\n",
      "Entry(name=Name(first='александр', last='луи'), birth_date=Date(year='22', month=None, day=None), birth_place=BirthPlace(in_='в', place='Лондоне'))\n",
      "Entry(name=Name(first='евгений', last='гришковец'), birth_date=Date(year='1967', month=None, day=None), birth_place=BirthPlace(in_='в', place='Кемерово'))\n",
      "Entry(name=Name(first='игорь', last='кваша'), birth_date=Date(year='1933', month=None, day=None), birth_place=BirthPlace(in_='в', place='Москве'))\n",
      "Entry(name=Name(first=None, last='споканимая'), birth_date=Date(year='1931', month='марта', day='26'), birth_place=BirthPlace(in_='в', place='Бостоне'))\n",
      "Entry(name=Name(first=None, last='казенин'), birth_date=Date(year='1937', month='мая', day='21'), birth_place=BirthPlace(in_='в', place='Кирове'))\n",
      "Entry(name=Name(first='алексей', last='ремиз'), birth_date=Date(year='1877', month=None, day=None), birth_place=BirthPlace(in_='в', place='Москве'))\n",
      "Entry(name=Name(first='михаил', last='алгаш'), birth_date=Date(year='1988', month=None, day=None), birth_place=BirthPlace(in_='в', place='Омске'))\n"
     ]
    }
   ],
   "source": [
    "from tqdm.notebook import tqdm\n",
    "\n",
    "matches = []\n",
    "\n",
    "for text in tqdm(texts):\n",
    "    for match in parser.findall(text.text):\n",
    "        print(match.fact)\n",
    "        matches.append((text, match))"
   ]
  },
  {
   "cell_type": "markdown",
   "metadata": {},
   "source": [
    "Посмотрим с контекстом"
   ]
  },
  {
   "cell_type": "code",
   "execution_count": 41,
   "metadata": {},
   "outputs": [
    {
     "name": "stdout",
     "output_type": "stream",
     "text": [
      "Extracted from: Трэмиел родился в 1928 году в Польше\n",
      "matched: Entry(name=Name(first=None, last='трэмиел'), birth_date=Date(year='1928', month=None, day=None), birth_place=BirthPlace(in_='в', place='Польше'))\n",
      "--------------------------------------------------------------------------------\n",
      "Extracted from: Он родился в Польше 11 сентября 1865 года\n",
      "matched: Entry(name=Name(first=None, last='он'), birth_date=Date(year='1865', month='сентября', day='11'), birth_place=BirthPlace(in_='в', place='Польше'))\n",
      "--------------------------------------------------------------------------------\n",
      "Extracted from: Ребенок родился в Калифорнии 25\n",
      "matched: Entry(name=Name(first=None, last='ребёнок'), birth_date=Date(year='25', month=None, day=None), birth_place=BirthPlace(in_='в', place='Калифорнии'))\n",
      "--------------------------------------------------------------------------------\n",
      "Extracted from: Дмитрий Чернявский родился в Артемовске 5 марта 1992 года\n",
      "matched: Entry(name=Name(first='дмитрий', last='чернявский'), birth_date=Date(year='1992', month='марта', day='5'), birth_place=BirthPlace(in_='в', place='Артемовске'))\n",
      "--------------------------------------------------------------------------------\n",
      "Extracted from: Миллиардер родился в 1938 году в Лондоне\n",
      "matched: Entry(name=Name(first=None, last='миллиардер'), birth_date=Date(year='1938', month=None, day=None), birth_place=BirthPlace(in_='в', place='Лондоне'))\n",
      "--------------------------------------------------------------------------------\n",
      "Extracted from: ЯковлевЮрий Яковлев родился в Москве в 1928 году\n",
      "matched: Entry(name=Name(first='яковлевюрий', last='яковлев'), birth_date=Date(year='1928', month=None, day=None), birth_place=BirthPlace(in_='в', place='Москве'))\n",
      "--------------------------------------------------------------------------------\n",
      "Extracted from: Патрик родился в Бронксе в 1990 году\n",
      "matched: Entry(name=Name(first=None, last='патрик'), birth_date=Date(year='1990', month=None, day=None), birth_place=BirthPlace(in_='в', place='Бронксе'))\n",
      "--------------------------------------------------------------------------------\n",
      "Extracted from: Николай Караченцов родился 27 октября 1944 года в Москве\n",
      "matched: Entry(name=Name(first='николай', last='караченцов'), birth_date=Date(year='1944', month='октября', day='27'), birth_place=BirthPlace(in_='в', place='Москве'))\n",
      "--------------------------------------------------------------------------------\n",
      "Extracted from: Живописец родился 25 мая 1927 года в Сочи\n",
      "matched: Entry(name=Name(first=None, last='живописец'), birth_date=Date(year='1927', month='мая', day='25'), birth_place=BirthPlace(in_='в', place='Сочи'))\n",
      "--------------------------------------------------------------------------------\n",
      "Extracted from: Игорь Доценко родился в 1953 году в Хмельницкой\n",
      "matched: Entry(name=Name(first='игорь', last='доценко'), birth_date=Date(year='1953', month=None, day=None), birth_place=BirthPlace(in_='в', place='Хмельницкой'))\n",
      "--------------------------------------------------------------------------------\n",
      "Extracted from: Энгельбарт родился в 1925 году в США\n",
      "matched: Entry(name=Name(first=None, last='энгельбарт'), birth_date=Date(year='1925', month=None, day=None), birth_place=BirthPlace(in_='в', place='США'))\n",
      "--------------------------------------------------------------------------------\n",
      "Extracted from: Гамильтон родился в Лондоне в 1922 году\n",
      "matched: Entry(name=Name(first=None, last='гамильтон'), birth_date=Date(year='1922', month=None, day=None), birth_place=BirthPlace(in_='в', place='Лондоне'))\n",
      "--------------------------------------------------------------------------------\n",
      "Extracted from: Раймонд Паулс родился 12 января 1936 года в Риге\n",
      "matched: Entry(name=Name(first='раймонд', last='паулс'), birth_date=Date(year='1936', month='января', day='12'), birth_place=BirthPlace(in_='в', place='Риге'))\n",
      "--------------------------------------------------------------------------------\n",
      "Extracted from: Эдвард Мунк родился 12 декабря 1863 года в Летене\n",
      "matched: Entry(name=Name(first='эдвард', last='мунк'), birth_date=Date(year='1863', month='декабря', day='12'), birth_place=BirthPlace(in_='в', place='Летене'))\n",
      "--------------------------------------------------------------------------------\n",
      "Extracted from: Рахлин родился в Ленинграде в 1938 году\n",
      "matched: Entry(name=Name(first=None, last='рахлина'), birth_date=Date(year='1938', month=None, day=None), birth_place=BirthPlace(in_='в', place='Ленинграде'))\n",
      "--------------------------------------------------------------------------------\n",
      "Extracted from: Владимир Высоцкий родился в Москве в 1938 году\n",
      "matched: Entry(name=Name(first='владимир', last='высоцкий'), birth_date=Date(year='1938', month=None, day=None), birth_place=BirthPlace(in_='в', place='Москве'))\n",
      "--------------------------------------------------------------------------------\n",
      "Extracted from: Монро родился в Ленинграде в 1969 году\n",
      "matched: Entry(name=Name(first=None, last='монро'), birth_date=Date(year='1969', month=None, day=None), birth_place=BirthPlace(in_='в', place='Ленинграде'))\n",
      "--------------------------------------------------------------------------------\n",
      "Extracted from: Ельчин родился 11 марта 1989 года в Ленинграде\n",
      "matched: Entry(name=Name(first=None, last='ельчин'), birth_date=Date(year='1989', month='марта', day='11'), birth_place=BirthPlace(in_='в', place='Ленинграде'))\n",
      "--------------------------------------------------------------------------------\n",
      "Extracted from: Борис Васильев родился 21 мая 1924 года в Смоленске\n",
      "matched: Entry(name=Name(first='борис', last='васильев'), birth_date=Date(year='1924', month='мая', day='21'), birth_place=BirthPlace(in_='в', place='Смоленске'))\n",
      "--------------------------------------------------------------------------------\n",
      "Extracted from: Оскар Нимейер родился в 15 декабря 1907 года в Рио\n",
      "matched: Entry(name=Name(first='оскар', last='нимейер'), birth_date=Date(year='1907', month='декабря', day='15'), birth_place=BirthPlace(in_='в', place='Рио'))\n",
      "--------------------------------------------------------------------------------\n",
      "Extracted from: Александр Луи родился в Лондоне 22\n",
      "matched: Entry(name=Name(first='александр', last='луи'), birth_date=Date(year='22', month=None, day=None), birth_place=BirthPlace(in_='в', place='Лондоне'))\n",
      "--------------------------------------------------------------------------------\n",
      "Extracted from: Евгений Гришковец родился в 1967 году в Кемерово\n",
      "matched: Entry(name=Name(first='евгений', last='гришковец'), birth_date=Date(year='1967', month=None, day=None), birth_place=BirthPlace(in_='в', place='Кемерово'))\n",
      "--------------------------------------------------------------------------------\n",
      "Extracted from: Игорь Кваша родился в Москве в 1933 году\n",
      "matched: Entry(name=Name(first='игорь', last='кваша'), birth_date=Date(year='1933', month=None, day=None), birth_place=BirthPlace(in_='в', place='Москве'))\n",
      "--------------------------------------------------------------------------------\n",
      "Extracted from: СпокаНимой родился 26 марта 1931 года в Бостоне\n",
      "matched: Entry(name=Name(first=None, last='споканимая'), birth_date=Date(year='1931', month='марта', day='26'), birth_place=BirthPlace(in_='в', place='Бостоне'))\n",
      "--------------------------------------------------------------------------------\n",
      "Extracted from: Казенин родился 21 мая 1937 года в Кирове\n",
      "matched: Entry(name=Name(first=None, last='казенин'), birth_date=Date(year='1937', month='мая', day='21'), birth_place=BirthPlace(in_='в', place='Кирове'))\n",
      "--------------------------------------------------------------------------------\n",
      "Extracted from: Алексей Ремизов родился в Москве в 1877 году\n",
      "matched: Entry(name=Name(first='алексей', last='ремиз'), birth_date=Date(year='1877', month=None, day=None), birth_place=BirthPlace(in_='в', place='Москве'))\n",
      "--------------------------------------------------------------------------------\n",
      "Extracted from: Михаил Алгаш родился в Омске в 1988 году\n",
      "matched: Entry(name=Name(first='михаил', last='алгаш'), birth_date=Date(year='1988', month=None, day=None), birth_place=BirthPlace(in_='в', place='Омске'))\n",
      "--------------------------------------------------------------------------------\n"
     ]
    }
   ],
   "source": [
    "for item in matches:\n",
    "    text = item[0]\n",
    "    match = item[1]\n",
    "    left, right = match.tokens[0].span.start, match.tokens[-1].span.stop\n",
    "    print(f\"Extracted from: {text.text[left:right]}\\nmatched: {match.fact}\")\n",
    "    print('-' * 80)"
   ]
  },
  {
   "cell_type": "markdown",
   "metadata": {},
   "source": [
    "В целом проблем почти нет"
   ]
  }
 ],
 "metadata": {
  "kernelspec": {
   "display_name": "nlp",
   "language": "python",
   "name": "python3"
  },
  "language_info": {
   "codemirror_mode": {
    "name": "ipython",
    "version": 3
   },
   "file_extension": ".py",
   "mimetype": "text/x-python",
   "name": "python",
   "nbconvert_exporter": "python",
   "pygments_lexer": "ipython3",
   "version": "3.10.12"
  }
 },
 "nbformat": 4,
 "nbformat_minor": 2
}
